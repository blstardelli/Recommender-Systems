{
 "cells": [
  {
   "cell_type": "markdown",
   "metadata": {},
   "source": [
    "# Exemplo real de Regra de Associação pelo Algoritmo Apriori\n",
    "\n",
    "- Apriori Base IAP - Algoritmo Apriori (Somente PF associados)"
   ]
  },
  {
   "cell_type": "code",
   "execution_count": 21,
   "metadata": {},
   "outputs": [],
   "source": [
    "# conda install -c conda-forge mlxtend"
   ]
  },
  {
   "cell_type": "code",
   "execution_count": 3,
   "metadata": {},
   "outputs": [],
   "source": [
    "import numpy as np\n",
    "import pandas as pd"
   ]
  },
  {
   "cell_type": "code",
   "execution_count": 4,
   "metadata": {
    "scrolled": false
   },
   "outputs": [],
   "source": [
    "data = pd.read_excel(\"Base_IAP.xlsx\")"
   ]
  },
  {
   "cell_type": "code",
   "execution_count": 5,
   "metadata": {},
   "outputs": [],
   "source": [
    "data = data[(data['Sigla Tipo Pessoa'] == 'PF') & (data[ 'Valor Saldo Cliente Conta Capital Diário'] != 0)]"
   ]
  },
  {
   "cell_type": "code",
   "execution_count": 6,
   "metadata": {},
   "outputs": [
    {
     "data": {
      "text/plain": [
       "array(['PESSOA FISICA'], dtype=object)"
      ]
     },
     "execution_count": 6,
     "metadata": {},
     "output_type": "execute_result"
    }
   ],
   "source": [
    "data['Atividade Econômica'].unique()"
   ]
  },
  {
   "cell_type": "code",
   "execution_count": 7,
   "metadata": {},
   "outputs": [
    {
     "data": {
      "text/plain": [
       "Index(['Número CPF/CNPJ', 'Atividade Econômica', 'CNAE',\n",
       "       'Data Início Relacionamento', 'Descrição Categoria Produtor Rural',\n",
       "       'Escolaridade', 'Estado Civil', 'Idade', 'Profissão',\n",
       "       'Renda Bruta Mensal', 'Sexo', 'Sigla Tipo Pessoa', 'Tipo Renda',\n",
       "       'Valor Bem Imóvel', 'Valor Bem Móvel', 'Nome PA',\n",
       "       'Valor Saldo Cliente Conta Capital Diário',\n",
       "       'Quantidade Contratos Crédito',\n",
       "       'Valor Limite Conta Cartão Contratado Diário Cliente Cartão',\n",
       "       'Quantidade Cota Ativa Cliente Consórcio',\n",
       "       'Valor Saldo Final Cliente Poupança', 'Valor Saldo Diário Cliente LCA',\n",
       "       'Valor Saldo Diário Cliente RDC', 'Valor Saldo Diário Cliente LCI',\n",
       "       'Quantidade Seguro Vigente', 'Valor Contribuição Cliente Previ'],\n",
       "      dtype='object')"
      ]
     },
     "execution_count": 7,
     "metadata": {},
     "output_type": "execute_result"
    }
   ],
   "source": [
    "data.columns"
   ]
  },
  {
   "cell_type": "code",
   "execution_count": 10,
   "metadata": {},
   "outputs": [],
   "source": [
    "dfprod = data[['Quantidade Contratos Crédito',\n",
    "       'Valor Limite Conta Cartão Contratado Diário Cliente Cartão',\n",
    "       'Quantidade Cota Ativa Cliente Consórcio',\n",
    "       'Valor Saldo Final Cliente Poupança', 'Valor Saldo Diário Cliente LCA',\n",
    "       'Valor Saldo Diário Cliente RDC', 'Valor Saldo Diário Cliente LCI',\n",
    "       'Quantidade Seguro Vigente', 'Valor Contribuição Cliente Previ']]"
   ]
  },
  {
   "cell_type": "code",
   "execution_count": 11,
   "metadata": {},
   "outputs": [
    {
     "data": {
      "text/plain": [
       "9"
      ]
     },
     "execution_count": 11,
     "metadata": {},
     "output_type": "execute_result"
    }
   ],
   "source": [
    "dfprod.shape[1]"
   ]
  },
  {
   "cell_type": "code",
   "execution_count": 12,
   "metadata": {
    "scrolled": false
   },
   "outputs": [
    {
     "data": {
      "text/plain": [
       "Index(['Quantidade Contratos Crédito',\n",
       "       'Valor Limite Conta Cartão Contratado Diário Cliente Cartão',\n",
       "       'Quantidade Cota Ativa Cliente Consórcio',\n",
       "       'Valor Saldo Final Cliente Poupança', 'Valor Saldo Diário Cliente LCA',\n",
       "       'Valor Saldo Diário Cliente RDC', 'Valor Saldo Diário Cliente LCI',\n",
       "       'Quantidade Seguro Vigente', 'Valor Contribuição Cliente Previ'],\n",
       "      dtype='object')"
      ]
     },
     "execution_count": 12,
     "metadata": {},
     "output_type": "execute_result"
    }
   ],
   "source": [
    "dfprod.columns"
   ]
  },
  {
   "cell_type": "code",
   "execution_count": 13,
   "metadata": {},
   "outputs": [],
   "source": [
    "dfrename = dfprod.rename(columns={'Quantidade Contratos Crédito':'Credito',\n",
    "                                  'Valor Limite Conta Cartão Contratado Diário Cliente Cartão':'Cartão', \n",
    "                                  'Quantidade Cota Ativa Cliente Consórcio': 'Consórcio',\n",
    "                                  'Valor Saldo Final Cliente Poupança':'Poupança',\n",
    "                                  'Valor Saldo Diário Cliente LCA':'LCA',\n",
    "                                  'Valor Saldo Diário Cliente RDC':'RDC',\n",
    "                                  'Valor Saldo Diário Cliente LCI':'LCI',\n",
    "                                  'Quantidade Seguro Vigente':'Seguro',\n",
    "                                  'Valor Contribuição Cliente Previ':'Previd'\n",
    "                                  \n",
    "                                 \n",
    "                                 }, inplace=False)"
   ]
  },
  {
   "cell_type": "code",
   "execution_count": 14,
   "metadata": {},
   "outputs": [
    {
     "data": {
      "text/plain": [
       "Index(['Credito', 'Cartão', 'Consórcio', 'Poupança', 'LCA', 'RDC', 'LCI',\n",
       "       'Seguro', 'Previd'],\n",
       "      dtype='object')"
      ]
     },
     "execution_count": 14,
     "metadata": {},
     "output_type": "execute_result"
    }
   ],
   "source": [
    "dfrename.columns"
   ]
  },
  {
   "cell_type": "code",
   "execution_count": 15,
   "metadata": {},
   "outputs": [],
   "source": [
    "for i in dfrename.columns:\n",
    "    dfrename.loc[dfrename[i]!=0,i] = i\n",
    "       "
   ]
  },
  {
   "cell_type": "code",
   "execution_count": 16,
   "metadata": {},
   "outputs": [
    {
     "data": {
      "text/html": [
       "<div>\n",
       "<style scoped>\n",
       "    .dataframe tbody tr th:only-of-type {\n",
       "        vertical-align: middle;\n",
       "    }\n",
       "\n",
       "    .dataframe tbody tr th {\n",
       "        vertical-align: top;\n",
       "    }\n",
       "\n",
       "    .dataframe thead th {\n",
       "        text-align: right;\n",
       "    }\n",
       "</style>\n",
       "<table border=\"1\" class=\"dataframe\">\n",
       "  <thead>\n",
       "    <tr style=\"text-align: right;\">\n",
       "      <th></th>\n",
       "      <th>Credito</th>\n",
       "      <th>Cartão</th>\n",
       "      <th>Consórcio</th>\n",
       "      <th>Poupança</th>\n",
       "      <th>LCA</th>\n",
       "      <th>RDC</th>\n",
       "      <th>LCI</th>\n",
       "      <th>Seguro</th>\n",
       "      <th>Previd</th>\n",
       "    </tr>\n",
       "  </thead>\n",
       "  <tbody>\n",
       "    <tr>\n",
       "      <th>5</th>\n",
       "      <td>0</td>\n",
       "      <td>Cartão</td>\n",
       "      <td>0</td>\n",
       "      <td>0.0</td>\n",
       "      <td>0.0</td>\n",
       "      <td>RDC</td>\n",
       "      <td>0</td>\n",
       "      <td>0</td>\n",
       "      <td>0.0</td>\n",
       "    </tr>\n",
       "    <tr>\n",
       "      <th>6</th>\n",
       "      <td>0</td>\n",
       "      <td>0</td>\n",
       "      <td>0</td>\n",
       "      <td>0.0</td>\n",
       "      <td>0.0</td>\n",
       "      <td>0.0</td>\n",
       "      <td>0</td>\n",
       "      <td>0</td>\n",
       "      <td>0.0</td>\n",
       "    </tr>\n",
       "    <tr>\n",
       "      <th>8</th>\n",
       "      <td>0</td>\n",
       "      <td>0</td>\n",
       "      <td>0</td>\n",
       "      <td>0.0</td>\n",
       "      <td>0.0</td>\n",
       "      <td>0.0</td>\n",
       "      <td>0</td>\n",
       "      <td>0</td>\n",
       "      <td>0.0</td>\n",
       "    </tr>\n",
       "    <tr>\n",
       "      <th>9</th>\n",
       "      <td>0</td>\n",
       "      <td>0</td>\n",
       "      <td>0</td>\n",
       "      <td>0.0</td>\n",
       "      <td>0.0</td>\n",
       "      <td>0.0</td>\n",
       "      <td>0</td>\n",
       "      <td>0</td>\n",
       "      <td>0.0</td>\n",
       "    </tr>\n",
       "    <tr>\n",
       "      <th>10</th>\n",
       "      <td>0</td>\n",
       "      <td>Cartão</td>\n",
       "      <td>0</td>\n",
       "      <td>0.0</td>\n",
       "      <td>0.0</td>\n",
       "      <td>RDC</td>\n",
       "      <td>0</td>\n",
       "      <td>0</td>\n",
       "      <td>0.0</td>\n",
       "    </tr>\n",
       "    <tr>\n",
       "      <th>...</th>\n",
       "      <td>...</td>\n",
       "      <td>...</td>\n",
       "      <td>...</td>\n",
       "      <td>...</td>\n",
       "      <td>...</td>\n",
       "      <td>...</td>\n",
       "      <td>...</td>\n",
       "      <td>...</td>\n",
       "      <td>...</td>\n",
       "    </tr>\n",
       "    <tr>\n",
       "      <th>111392</th>\n",
       "      <td>0</td>\n",
       "      <td>0</td>\n",
       "      <td>0</td>\n",
       "      <td>0.0</td>\n",
       "      <td>0.0</td>\n",
       "      <td>0.0</td>\n",
       "      <td>0</td>\n",
       "      <td>0</td>\n",
       "      <td>0.0</td>\n",
       "    </tr>\n",
       "    <tr>\n",
       "      <th>111393</th>\n",
       "      <td>0</td>\n",
       "      <td>0</td>\n",
       "      <td>0</td>\n",
       "      <td>0.0</td>\n",
       "      <td>0.0</td>\n",
       "      <td>0.0</td>\n",
       "      <td>0</td>\n",
       "      <td>0</td>\n",
       "      <td>0.0</td>\n",
       "    </tr>\n",
       "    <tr>\n",
       "      <th>111394</th>\n",
       "      <td>0</td>\n",
       "      <td>0</td>\n",
       "      <td>0</td>\n",
       "      <td>0.0</td>\n",
       "      <td>0.0</td>\n",
       "      <td>0.0</td>\n",
       "      <td>0</td>\n",
       "      <td>0</td>\n",
       "      <td>0.0</td>\n",
       "    </tr>\n",
       "    <tr>\n",
       "      <th>111395</th>\n",
       "      <td>Credito</td>\n",
       "      <td>Cartão</td>\n",
       "      <td>0</td>\n",
       "      <td>0.0</td>\n",
       "      <td>0.0</td>\n",
       "      <td>0.0</td>\n",
       "      <td>0</td>\n",
       "      <td>0</td>\n",
       "      <td>0.0</td>\n",
       "    </tr>\n",
       "    <tr>\n",
       "      <th>111397</th>\n",
       "      <td>Credito</td>\n",
       "      <td>0</td>\n",
       "      <td>0</td>\n",
       "      <td>0.0</td>\n",
       "      <td>0.0</td>\n",
       "      <td>0.0</td>\n",
       "      <td>0</td>\n",
       "      <td>0</td>\n",
       "      <td>0.0</td>\n",
       "    </tr>\n",
       "  </tbody>\n",
       "</table>\n",
       "<p>47205 rows × 9 columns</p>\n",
       "</div>"
      ],
      "text/plain": [
       "        Credito  Cartão Consórcio Poupança  LCA  RDC LCI Seguro Previd\n",
       "5             0  Cartão         0      0.0  0.0  RDC   0      0    0.0\n",
       "6             0       0         0      0.0  0.0  0.0   0      0    0.0\n",
       "8             0       0         0      0.0  0.0  0.0   0      0    0.0\n",
       "9             0       0         0      0.0  0.0  0.0   0      0    0.0\n",
       "10            0  Cartão         0      0.0  0.0  RDC   0      0    0.0\n",
       "...         ...     ...       ...      ...  ...  ...  ..    ...    ...\n",
       "111392        0       0         0      0.0  0.0  0.0   0      0    0.0\n",
       "111393        0       0         0      0.0  0.0  0.0   0      0    0.0\n",
       "111394        0       0         0      0.0  0.0  0.0   0      0    0.0\n",
       "111395  Credito  Cartão         0      0.0  0.0  0.0   0      0    0.0\n",
       "111397  Credito       0         0      0.0  0.0  0.0   0      0    0.0\n",
       "\n",
       "[47205 rows x 9 columns]"
      ]
     },
     "execution_count": 16,
     "metadata": {},
     "output_type": "execute_result"
    }
   ],
   "source": [
    "df = dfrename\n",
    "df"
   ]
  },
  {
   "cell_type": "code",
   "execution_count": 22,
   "metadata": {},
   "outputs": [],
   "source": [
    "def removeAllOcurrencesOfValueInList(_list, value):\n",
    "    return list(filter(lambda x: x != value, _list))"
   ]
  },
  {
   "cell_type": "code",
   "execution_count": 23,
   "metadata": {},
   "outputs": [
    {
     "name": "stdout",
     "output_type": "stream",
     "text": [
      "[['Cartão', 'RDC'], [], [], [], ['Cartão', 'RDC'], ['Credito', 'Cartão'], ['Credito', 'Poupança', 'RDC', 'Seguro'], [], ['Cartão'], ['Credito', 'Cartão']]\n"
     ]
    }
   ],
   "source": [
    "list_all_transactions = []\n",
    "\n",
    "for index, row in df.iterrows():\n",
    "    list_single_transaction = row.values.tolist()\n",
    "    list_single_transaction = removeAllOcurrencesOfValueInList(list_single_transaction, 0)\n",
    "    list_all_transactions.append(list_single_transaction)\n",
    "\n",
    "#10 primeiras transações\n",
    "print(list_all_transactions[0:10])"
   ]
  },
  {
   "cell_type": "code",
   "execution_count": 24,
   "metadata": {},
   "outputs": [
    {
     "data": {
      "text/html": [
       "<div>\n",
       "<style scoped>\n",
       "    .dataframe tbody tr th:only-of-type {\n",
       "        vertical-align: middle;\n",
       "    }\n",
       "\n",
       "    .dataframe tbody tr th {\n",
       "        vertical-align: top;\n",
       "    }\n",
       "\n",
       "    .dataframe thead th {\n",
       "        text-align: right;\n",
       "    }\n",
       "</style>\n",
       "<table border=\"1\" class=\"dataframe\">\n",
       "  <thead>\n",
       "    <tr style=\"text-align: right;\">\n",
       "      <th></th>\n",
       "      <th>Cartão</th>\n",
       "      <th>Credito</th>\n",
       "      <th>LCA</th>\n",
       "      <th>Poupança</th>\n",
       "      <th>Previd</th>\n",
       "      <th>RDC</th>\n",
       "      <th>Seguro</th>\n",
       "    </tr>\n",
       "  </thead>\n",
       "  <tbody>\n",
       "    <tr>\n",
       "      <th>0</th>\n",
       "      <td>True</td>\n",
       "      <td>False</td>\n",
       "      <td>False</td>\n",
       "      <td>False</td>\n",
       "      <td>False</td>\n",
       "      <td>True</td>\n",
       "      <td>False</td>\n",
       "    </tr>\n",
       "    <tr>\n",
       "      <th>1</th>\n",
       "      <td>False</td>\n",
       "      <td>False</td>\n",
       "      <td>False</td>\n",
       "      <td>False</td>\n",
       "      <td>False</td>\n",
       "      <td>False</td>\n",
       "      <td>False</td>\n",
       "    </tr>\n",
       "    <tr>\n",
       "      <th>2</th>\n",
       "      <td>False</td>\n",
       "      <td>False</td>\n",
       "      <td>False</td>\n",
       "      <td>False</td>\n",
       "      <td>False</td>\n",
       "      <td>False</td>\n",
       "      <td>False</td>\n",
       "    </tr>\n",
       "    <tr>\n",
       "      <th>3</th>\n",
       "      <td>False</td>\n",
       "      <td>False</td>\n",
       "      <td>False</td>\n",
       "      <td>False</td>\n",
       "      <td>False</td>\n",
       "      <td>False</td>\n",
       "      <td>False</td>\n",
       "    </tr>\n",
       "    <tr>\n",
       "      <th>4</th>\n",
       "      <td>True</td>\n",
       "      <td>False</td>\n",
       "      <td>False</td>\n",
       "      <td>False</td>\n",
       "      <td>False</td>\n",
       "      <td>True</td>\n",
       "      <td>False</td>\n",
       "    </tr>\n",
       "    <tr>\n",
       "      <th>...</th>\n",
       "      <td>...</td>\n",
       "      <td>...</td>\n",
       "      <td>...</td>\n",
       "      <td>...</td>\n",
       "      <td>...</td>\n",
       "      <td>...</td>\n",
       "      <td>...</td>\n",
       "    </tr>\n",
       "    <tr>\n",
       "      <th>47200</th>\n",
       "      <td>False</td>\n",
       "      <td>False</td>\n",
       "      <td>False</td>\n",
       "      <td>False</td>\n",
       "      <td>False</td>\n",
       "      <td>False</td>\n",
       "      <td>False</td>\n",
       "    </tr>\n",
       "    <tr>\n",
       "      <th>47201</th>\n",
       "      <td>False</td>\n",
       "      <td>False</td>\n",
       "      <td>False</td>\n",
       "      <td>False</td>\n",
       "      <td>False</td>\n",
       "      <td>False</td>\n",
       "      <td>False</td>\n",
       "    </tr>\n",
       "    <tr>\n",
       "      <th>47202</th>\n",
       "      <td>False</td>\n",
       "      <td>False</td>\n",
       "      <td>False</td>\n",
       "      <td>False</td>\n",
       "      <td>False</td>\n",
       "      <td>False</td>\n",
       "      <td>False</td>\n",
       "    </tr>\n",
       "    <tr>\n",
       "      <th>47203</th>\n",
       "      <td>True</td>\n",
       "      <td>True</td>\n",
       "      <td>False</td>\n",
       "      <td>False</td>\n",
       "      <td>False</td>\n",
       "      <td>False</td>\n",
       "      <td>False</td>\n",
       "    </tr>\n",
       "    <tr>\n",
       "      <th>47204</th>\n",
       "      <td>False</td>\n",
       "      <td>True</td>\n",
       "      <td>False</td>\n",
       "      <td>False</td>\n",
       "      <td>False</td>\n",
       "      <td>False</td>\n",
       "      <td>False</td>\n",
       "    </tr>\n",
       "  </tbody>\n",
       "</table>\n",
       "<p>47205 rows × 7 columns</p>\n",
       "</div>"
      ],
      "text/plain": [
       "       Cartão  Credito    LCA  Poupança  Previd    RDC  Seguro\n",
       "0        True    False  False     False   False   True   False\n",
       "1       False    False  False     False   False  False   False\n",
       "2       False    False  False     False   False  False   False\n",
       "3       False    False  False     False   False  False   False\n",
       "4        True    False  False     False   False   True   False\n",
       "...       ...      ...    ...       ...     ...    ...     ...\n",
       "47200   False    False  False     False   False  False   False\n",
       "47201   False    False  False     False   False  False   False\n",
       "47202   False    False  False     False   False  False   False\n",
       "47203    True     True  False     False   False  False   False\n",
       "47204   False     True  False     False   False  False   False\n",
       "\n",
       "[47205 rows x 7 columns]"
      ]
     },
     "execution_count": 24,
     "metadata": {},
     "output_type": "execute_result"
    }
   ],
   "source": [
    "from mlxtend.preprocessing import TransactionEncoder\n",
    "\n",
    "te = TransactionEncoder()\n",
    "\n",
    "te_ary = te.fit(list_all_transactions).transform(list_all_transactions)\n",
    "df = pd.DataFrame(te_ary, columns=te.columns_)\n",
    "df"
   ]
  },
  {
   "cell_type": "code",
   "execution_count": 25,
   "metadata": {},
   "outputs": [
    {
     "data": {
      "text/html": [
       "<div>\n",
       "<style scoped>\n",
       "    .dataframe tbody tr th:only-of-type {\n",
       "        vertical-align: middle;\n",
       "    }\n",
       "\n",
       "    .dataframe tbody tr th {\n",
       "        vertical-align: top;\n",
       "    }\n",
       "\n",
       "    .dataframe thead th {\n",
       "        text-align: right;\n",
       "    }\n",
       "</style>\n",
       "<table border=\"1\" class=\"dataframe\">\n",
       "  <thead>\n",
       "    <tr style=\"text-align: right;\">\n",
       "      <th></th>\n",
       "      <th>support</th>\n",
       "      <th>itemsets</th>\n",
       "    </tr>\n",
       "  </thead>\n",
       "  <tbody>\n",
       "    <tr>\n",
       "      <th>0</th>\n",
       "      <td>0.577757</td>\n",
       "      <td>(Cartão)</td>\n",
       "    </tr>\n",
       "    <tr>\n",
       "      <th>1</th>\n",
       "      <td>0.208876</td>\n",
       "      <td>(Credito)</td>\n",
       "    </tr>\n",
       "    <tr>\n",
       "      <th>4</th>\n",
       "      <td>0.198009</td>\n",
       "      <td>(Seguro)</td>\n",
       "    </tr>\n",
       "    <tr>\n",
       "      <th>3</th>\n",
       "      <td>0.182798</td>\n",
       "      <td>(RDC)</td>\n",
       "    </tr>\n",
       "    <tr>\n",
       "      <th>2</th>\n",
       "      <td>0.180320</td>\n",
       "      <td>(Poupança)</td>\n",
       "    </tr>\n",
       "    <tr>\n",
       "      <th>8</th>\n",
       "      <td>0.160640</td>\n",
       "      <td>(Seguro, Cartão)</td>\n",
       "    </tr>\n",
       "    <tr>\n",
       "      <th>5</th>\n",
       "      <td>0.156848</td>\n",
       "      <td>(Cartão, Credito)</td>\n",
       "    </tr>\n",
       "    <tr>\n",
       "      <th>7</th>\n",
       "      <td>0.133672</td>\n",
       "      <td>(RDC, Cartão)</td>\n",
       "    </tr>\n",
       "    <tr>\n",
       "      <th>6</th>\n",
       "      <td>0.130812</td>\n",
       "      <td>(Cartão, Poupança)</td>\n",
       "    </tr>\n",
       "  </tbody>\n",
       "</table>\n",
       "</div>"
      ],
      "text/plain": [
       "    support            itemsets\n",
       "0  0.577757            (Cartão)\n",
       "1  0.208876           (Credito)\n",
       "4  0.198009            (Seguro)\n",
       "3  0.182798               (RDC)\n",
       "2  0.180320          (Poupança)\n",
       "8  0.160640    (Seguro, Cartão)\n",
       "5  0.156848   (Cartão, Credito)\n",
       "7  0.133672       (RDC, Cartão)\n",
       "6  0.130812  (Cartão, Poupança)"
      ]
     },
     "execution_count": 25,
     "metadata": {},
     "output_type": "execute_result"
    }
   ],
   "source": [
    "from mlxtend.frequent_patterns import apriori, association_rules\n",
    "\n",
    "frequent_itemsets = apriori(df, min_support = 0.1, use_colnames = True)\n",
    "frequent_itemsets.sort_values(by=['support'], ascending = False).head(10)"
   ]
  },
  {
   "cell_type": "code",
   "execution_count": 26,
   "metadata": {
    "scrolled": true
   },
   "outputs": [
    {
     "data": {
      "text/html": [
       "<div>\n",
       "<style scoped>\n",
       "    .dataframe tbody tr th:only-of-type {\n",
       "        vertical-align: middle;\n",
       "    }\n",
       "\n",
       "    .dataframe tbody tr th {\n",
       "        vertical-align: top;\n",
       "    }\n",
       "\n",
       "    .dataframe thead th {\n",
       "        text-align: right;\n",
       "    }\n",
       "</style>\n",
       "<table border=\"1\" class=\"dataframe\">\n",
       "  <thead>\n",
       "    <tr style=\"text-align: right;\">\n",
       "      <th></th>\n",
       "      <th>antecedents</th>\n",
       "      <th>consequents</th>\n",
       "      <th>support</th>\n",
       "      <th>confidence</th>\n",
       "      <th>lift</th>\n",
       "    </tr>\n",
       "  </thead>\n",
       "  <tbody>\n",
       "    <tr>\n",
       "      <th>3</th>\n",
       "      <td>(Seguro)</td>\n",
       "      <td>(Cartão)</td>\n",
       "      <td>0.160640</td>\n",
       "      <td>0.811276</td>\n",
       "      <td>1.404184</td>\n",
       "    </tr>\n",
       "    <tr>\n",
       "      <th>0</th>\n",
       "      <td>(Credito)</td>\n",
       "      <td>(Cartão)</td>\n",
       "      <td>0.156848</td>\n",
       "      <td>0.750913</td>\n",
       "      <td>1.299704</td>\n",
       "    </tr>\n",
       "    <tr>\n",
       "      <th>2</th>\n",
       "      <td>(RDC)</td>\n",
       "      <td>(Cartão)</td>\n",
       "      <td>0.133672</td>\n",
       "      <td>0.731255</td>\n",
       "      <td>1.265680</td>\n",
       "    </tr>\n",
       "    <tr>\n",
       "      <th>1</th>\n",
       "      <td>(Poupança)</td>\n",
       "      <td>(Cartão)</td>\n",
       "      <td>0.130812</td>\n",
       "      <td>0.725446</td>\n",
       "      <td>1.255626</td>\n",
       "    </tr>\n",
       "  </tbody>\n",
       "</table>\n",
       "</div>"
      ],
      "text/plain": [
       "  antecedents consequents   support  confidence      lift\n",
       "3    (Seguro)    (Cartão)  0.160640    0.811276  1.404184\n",
       "0   (Credito)    (Cartão)  0.156848    0.750913  1.299704\n",
       "2       (RDC)    (Cartão)  0.133672    0.731255  1.265680\n",
       "1  (Poupança)    (Cartão)  0.130812    0.725446  1.255626"
      ]
     },
     "execution_count": 26,
     "metadata": {},
     "output_type": "execute_result"
    }
   ],
   "source": [
    "from mlxtend.frequent_patterns import association_rules\n",
    "\n",
    "rules = association_rules(frequent_itemsets, metric=\"confidence\", min_threshold=0.3)\n",
    "rules.sort_values(by=['lift'], ascending = False).drop(['antecedent support', 'consequent support', 'leverage', 'conviction'], axis=1)"
   ]
  },
  {
   "cell_type": "markdown",
   "metadata": {},
   "source": [
    "### Resultado\n",
    "\n",
    "Entre as associações testadas, a regra de associação mais robusta indicou que se o cliente possui Seguro, Crédito Pessoal, RDC ou Poupança há uma boa possibilidade para aceitar Cartão de Crédito"
   ]
  }
 ],
 "metadata": {
  "kernelspec": {
   "display_name": "Python 3",
   "language": "python",
   "name": "python3"
  },
  "language_info": {
   "codemirror_mode": {
    "name": "ipython",
    "version": 3
   },
   "file_extension": ".py",
   "mimetype": "text/x-python",
   "name": "python",
   "nbconvert_exporter": "python",
   "pygments_lexer": "ipython3",
   "version": "3.8.8"
  }
 },
 "nbformat": 4,
 "nbformat_minor": 4
}
